{
  "nbformat": 4,
  "nbformat_minor": 0,
  "metadata": {
    "colab": {
      "provenance": []
    },
    "kernelspec": {
      "name": "python3",
      "display_name": "Python 3"
    },
    "language_info": {
      "name": "python"
    }
  },
  "cells": [
    {
      "cell_type": "markdown",
      "source": [
        "[矢吹太朗『Webのしくみ』（サイエンス社, 2020）](https://github.com/taroyabuki/webbook)\n",
        "\n",
        "下のアイコンをクリックすれば，この文書に掲載されているコードを，Google Colab上で実行できます．（Googleのアカウントが必要です．）\n",
        "\n",
        "[![Open In Colab](https://colab.research.google.com/assets/colab-badge.svg)](https://colab.research.google.com/github/taroyabuki/webbook/blob/master/chapters/08_cipher.ipynb)\n",
        "\n",
        "# 第8章 暗号\n"
      ],
      "metadata": {
        "id": "nu8QJ6NR7PE4"
      }
    },
    {
      "cell_type": "markdown",
      "source": [
        "## 8.1 事後否認・改ざん・なりすまし・盗聴"
      ],
      "metadata": {
        "id": "c7SADR3OIaaK"
      }
    },
    {
      "cell_type": "markdown",
      "source": [
        "## 8.2 暗号の基本\n",
        "\n",
        "![図8.1 シーザー暗号（「+13」文字ずらす）を使って，アリスがボブにメッセージを送っている様子](https://raw.githubusercontent.com/taroyabuki/webbook/master/chapters/figures/08-1.svg)"
      ],
      "metadata": {
        "id": "h-eknlMIFplr"
      }
    },
    {
      "cell_type": "code",
      "source": [
        "#準備\n",
        "!apt-get install hxtools | tail -n 1"
      ],
      "metadata": {
        "id": "N1zGsv3NGbq4"
      },
      "execution_count": null,
      "outputs": []
    },
    {
      "cell_type": "code",
      "source": [
        "!echo \"hello\" | rot13"
      ],
      "metadata": {
        "id": "TFZA9rvpG71_"
      },
      "execution_count": null,
      "outputs": []
    },
    {
      "cell_type": "code",
      "source": [
        "!echo \"hello\" | rot13 | rot13"
      ],
      "metadata": {
        "id": "Zjl1lPH-Ge3G"
      },
      "execution_count": null,
      "outputs": []
    },
    {
      "cell_type": "markdown",
      "source": [
        "## 8.3 公開鍵暗号"
      ],
      "metadata": {
        "id": "2oWQ6FTVI5S_"
      }
    },
    {
      "cell_type": "markdown",
      "source": [
        "### 8.3.1 盗聴への対策\n",
        "\n",
        "アリスはボブの公開鍵で暗号化し，ボブはボブの秘密鍵で復号します．\n",
        "\n",
        "![図8.2 公開鍵暗号を使った暗号化と復号](https://raw.githubusercontent.com/taroyabuki/webbook/master/chapters/figures/08-2.svg)\n",
        "\n",
        "ファイル|役割\n",
        "--|--\n",
        "bob-public.pem|ボブの公開鍵\n",
        "bob-private.pem|ボブの秘密鍵\n",
        "message4bob|ボブへのメッセージ\n",
        "message4bob-secret|ボブへの暗号文\n"
      ],
      "metadata": {
        "id": "QemlILzQI-y2"
      }
    },
    {
      "cell_type": "code",
      "source": [
        "#(1) ボブが公開鍵と秘密鍵を作る．\n",
        "!openssl genrsa -out bob-private.pem 1024\n",
        "!openssl rsa -in bob-private.pem -pubout -out bob-public.pem"
      ],
      "metadata": {
        "id": "QexYiNzdJI39"
      },
      "execution_count": null,
      "outputs": []
    },
    {
      "cell_type": "code",
      "source": [
        "#公開鍵を見てみる．\n",
        "!cat bob-public.pem"
      ],
      "metadata": {
        "id": "dnfVbGNs-UVB"
      },
      "execution_count": null,
      "outputs": []
    },
    {
      "cell_type": "code",
      "source": [
        "#秘密鍵を見てみる．\n",
        "!cat bob-private.pem"
      ],
      "metadata": {
        "id": "teCe5xCX-aiY"
      },
      "execution_count": null,
      "outputs": []
    },
    {
      "cell_type": "code",
      "source": [
        "#(2) ボブが公開鍵を公開する．\n",
        "\n",
        "#(3) アリスがボブの公開鍵を手に入れる．\n",
        "\n",
        "#(4) アリスがボブの公開書きを使ってメッセージを暗号化し，ボブに送る．\n",
        "\n",
        "#(4.1) メッセージをファイルに書く．\n",
        "!echo \"こんにちは\" > message4bob\n",
        "\n",
        "#(4.2) ボブの公開鍵を使って暗号文を作る．\n",
        "!openssl pkeyutl -encrypt -pubin -inkey bob-public.pem -in message4bob -out message4bob-secret\n",
        "!cat message4bob-secret"
      ],
      "metadata": {
        "id": "Iaz7wLf2Jufv"
      },
      "execution_count": null,
      "outputs": []
    },
    {
      "cell_type": "code",
      "source": [
        "#(5) ボブが暗号文を受け取り，秘密鍵を使って復号する．\n",
        "!openssl pkeyutl -decrypt -inkey bob-private.pem -in message4bob-secret"
      ],
      "metadata": {
        "id": "5hM00VXVdcSK"
      },
      "execution_count": null,
      "outputs": []
    },
    {
      "cell_type": "markdown",
      "source": [
        "### 8.3.2 デジタル署名\n",
        "\n",
        "アリスはアリスの秘密鍵でデジタル署名を作り，，ボブはアリスの公開鍵でデジタル署名を検証します．\n",
        "\n",
        "ファイル|役割\n",
        "--|--\n",
        "alice-public.pem|アリスの公開鍵\n",
        "alice-private.pem|アリスの秘密鍵\n",
        "alice-message|アリスのメッセージ\n",
        "alice-message-signature|アリスのデジタル署名"
      ],
      "metadata": {
        "id": "fo_Cx6h8-FNa"
      }
    },
    {
      "cell_type": "markdown",
      "source": [
        "#### デジタル署名"
      ],
      "metadata": {
        "id": "QZGp0kivNhAh"
      }
    },
    {
      "cell_type": "code",
      "source": [
        "#(1) アリスが公開鍵と秘密鍵を作る．\n",
        "!openssl genrsa -out alice-private.pem 1024\n",
        "!openssl rsa -in alice-private.pem -pubout -out alice-public.pem"
      ],
      "metadata": {
        "id": "5nnLulowNnH3"
      },
      "execution_count": null,
      "outputs": []
    },
    {
      "cell_type": "code",
      "source": [
        "#(2) アリスがメッセージをファイルに書き，アリスが秘密鍵を使ってデジタル署名を作る．\n",
        "!echo -n \"HELLO\" > alice-message\n",
        "!openssl pkeyutl -sign -inkey alice-private.pem -in alice-message -out alice-message-signature"
      ],
      "metadata": {
        "id": "_yJtM-wZN11n"
      },
      "execution_count": null,
      "outputs": []
    },
    {
      "cell_type": "code",
      "source": [
        "#(3) アリスが公開鍵を公開する．\n",
        "\n",
        "#(4) ボブがアリスの公開鍵，メッセージ，デジタル署名を取得する．\n",
        "\n",
        "#(5) ボブがアリスの公開鍵を使って，メッセージのデジタル署名を検証する．\n",
        "!openssl pkeyutl -verify -pubin -inkey alice-public.pem -in alice-message -sigfile alice-message-signature"
      ],
      "metadata": {
        "id": "1n01MSS9PL4s"
      },
      "execution_count": null,
      "outputs": []
    },
    {
      "cell_type": "markdown",
      "source": [
        "### 8.3.3 デジタル証明書"
      ],
      "metadata": {
        "id": "dxDBR-m15N7E"
      }
    },
    {
      "cell_type": "markdown",
      "source": [
        "## 8.4 ウェブの安全性"
      ],
      "metadata": {
        "id": "DpRyGfSrLl5H"
      }
    },
    {
      "cell_type": "markdown",
      "source": [
        "### 8.4.1 TLS"
      ],
      "metadata": {
        "id": "c7_Nm7yFLmuI"
      }
    }
  ]
}