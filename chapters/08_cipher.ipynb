{
 "cells": [
  {
   "cell_type": "markdown",
   "metadata": {
    "id": "nu8QJ6NR7PE4"
   },
   "source": [
    "[矢吹太朗『Webのしくみ』（サイエンス社, 2020）](https://github.com/taroyabuki/webbook)\n",
    "\n",
    "下のアイコンをクリックすれば，この文書に掲載されているコードを，Google Colab上で実行できます．（Googleのアカウントが必要です．）\n",
    "\n",
    "[![Open In Colab](https://colab.research.google.com/assets/colab-badge.svg)](https://colab.research.google.com/github/taroyabuki/webbook/blob/master/chapters/08_cipher.ipynb)\n",
    "\n",
    "# 第8章 暗号\n"
   ]
  },
  {
   "cell_type": "markdown",
   "metadata": {
    "id": "c7SADR3OIaaK"
   },
   "source": [
    "## 8.1 事後否認・改ざん・なりすまし・盗聴"
   ]
  },
  {
   "cell_type": "markdown",
   "metadata": {
    "id": "h-eknlMIFplr"
   },
   "source": [
    "## 8.2 暗号の基本\n",
    "\n",
    "![図8.1 シーザー暗号（「+13」文字ずらす）を使って，アリスがボブにメッセージを送っている様子](https://raw.githubusercontent.com/taroyabuki/webbook/master/chapters/figures/08-1.svg)"
   ]
  },
  {
   "cell_type": "code",
   "execution_count": null,
   "metadata": {
    "id": "N1zGsv3NGbq4"
   },
   "outputs": [],
   "source": [
    "#準備\n",
    "!apt-get -y install hxtools | tail -n 1"
   ]
  },
  {
   "cell_type": "code",
   "execution_count": null,
   "metadata": {
    "id": "TFZA9rvpG71_"
   },
   "outputs": [],
   "source": [
    "!echo \"hello\" | rot13"
   ]
  },
  {
   "cell_type": "code",
   "execution_count": null,
   "metadata": {
    "id": "Zjl1lPH-Ge3G"
   },
   "outputs": [],
   "source": [
    "!echo \"hello\" | rot13 | rot13"
   ]
  },
  {
   "cell_type": "markdown",
   "metadata": {
    "id": "2oWQ6FTVI5S_"
   },
   "source": [
    "## 8.3 公開鍵暗号"
   ]
  },
  {
   "cell_type": "markdown",
   "metadata": {
    "id": "QemlILzQI-y2"
   },
   "source": [
    "### 8.3.1 盗聴への対策\n",
    "\n",
    "アリスはボブの公開鍵で暗号化し，ボブはボブの秘密鍵で復号します．\n",
    "\n",
    "![図8.2 公開鍵暗号を使った暗号化と復号](https://raw.githubusercontent.com/taroyabuki/webbook/master/chapters/figures/08-2.svg)\n",
    "\n",
    "ファイル|役割\n",
    "--|--\n",
    "bob-public.pem|ボブの公開鍵\n",
    "bob-private.pem|ボブの秘密鍵\n",
    "message4bob|ボブへのメッセージ\n",
    "message4bob-secret|ボブへの暗号文\n"
   ]
  },
  {
   "cell_type": "code",
   "execution_count": null,
   "metadata": {
    "id": "QexYiNzdJI39"
   },
   "outputs": [],
   "source": [
    "#(1) ボブが公開鍵と秘密鍵を作る．\n",
    "!openssl genrsa -out bob-private.pem 1024\n",
    "!openssl rsa -in bob-private.pem -pubout -out bob-public.pem"
   ]
  },
  {
   "cell_type": "code",
   "execution_count": null,
   "metadata": {
    "id": "dnfVbGNs-UVB"
   },
   "outputs": [],
   "source": [
    "#公開鍵を見てみる．\n",
    "!cat bob-public.pem"
   ]
  },
  {
   "cell_type": "code",
   "execution_count": null,
   "metadata": {
    "id": "teCe5xCX-aiY"
   },
   "outputs": [],
   "source": [
    "#秘密鍵を見てみる．\n",
    "!cat bob-private.pem"
   ]
  },
  {
   "cell_type": "code",
   "execution_count": null,
   "metadata": {
    "id": "Iaz7wLf2Jufv"
   },
   "outputs": [],
   "source": [
    "#(2) ボブが公開鍵を公開する．\n",
    "\n",
    "#(3) アリスがボブの公開鍵を手に入れる．\n",
    "\n",
    "#(4) アリスがボブの公開書きを使ってメッセージを暗号化し，ボブに送る．\n",
    "\n",
    "#(4.1) メッセージをファイルに書く．\n",
    "!echo \"こんにちは\" > message4bob\n",
    "\n",
    "#(4.2) ボブの公開鍵を使って暗号文を作る．\n",
    "!openssl pkeyutl -encrypt -pubin -inkey bob-public.pem -in message4bob -out message4bob-secret\n",
    "!cat message4bob-secret"
   ]
  },
  {
   "cell_type": "code",
   "execution_count": null,
   "metadata": {
    "id": "2F1LxH9zKahj"
   },
   "outputs": [],
   "source": [
    "#(5) ボブが暗号文を受け取り，秘密鍵を使って復号する．\n",
    "!openssl pkeyutl -decrypt -inkey bob-private.pem -in message4bob-secret"
   ]
  },
  {
   "cell_type": "markdown",
   "metadata": {
    "id": "fo_Cx6h8-FNa"
   },
   "source": [
    "### 8.3.2 デジタル署名\n",
    "\n",
    "アリスはアリスの秘密鍵で「暗号化」し，ボブはアリスの公開鍵で「復号」します．\n",
    "\n",
    "![図8.3 RSA暗号の特徴の一つ：秘密鍵で「暗号化」し，公開鍵で復号することもできる．](https://raw.githubusercontent.com/taroyabuki/webbook/master/chapters/figures/08-3.svg)\n",
    "\n",
    "ファイル|役割\n",
    "--|--\n",
    "alice-public.pem|アリスの公開鍵\n",
    "alice-private.pem|アリスの秘密鍵\n",
    "alice-message|アリスのメッセージ\n",
    "alice-message-secret|アリスの「暗号文」"
   ]
  },
  {
   "cell_type": "markdown",
   "metadata": {
    "id": "QZGp0kivNhAh"
   },
   "source": [
    "#### 「暗号文」"
   ]
  },
  {
   "cell_type": "code",
   "execution_count": null,
   "metadata": {
    "id": "5nnLulowNnH3"
   },
   "outputs": [],
   "source": [
    "#(1) アリスが公開鍵と秘密鍵を作る．\n",
    "!openssl genrsa -out alice-private.pem 1024\n",
    "!openssl rsa -in alice-private.pem -pubout -out alice-public.pem"
   ]
  },
  {
   "cell_type": "code",
   "execution_count": null,
   "metadata": {
    "id": "_yJtM-wZN11n"
   },
   "outputs": [],
   "source": [
    "#(2) アリスがメッセージをファイルに書き，アリスが秘密鍵を使って「暗号文」を作る．\n",
    "!echo -n \"HELLO\" > alice-message\n",
    "!openssl pkeyutl -sign -inkey alice-private.pem -in alice-message -out alice-message-secret"
   ]
  },
  {
   "cell_type": "code",
   "execution_count": null,
   "metadata": {
    "id": "1n01MSS9PL4s"
   },
   "outputs": [],
   "source": [
    "#(3) アリスが「暗号文」と公開鍵を公開する．\n",
    "\n",
    "#(4) ボブがアリスの「暗号文」と公開鍵を取得する．\n",
    "\n",
    "#(5) ボブがアリスの公開鍵を使って「暗号文」を復号する．\n",
    "!openssl pkeyutl -verifyrecover -pubin -in alice-message-secret -inkey alice-public.pem"
   ]
  },
  {
   "cell_type": "markdown",
   "metadata": {
    "id": "sqkZND-TQT3n"
   },
   "source": [
    "#### ハッシュ値の「暗号化」（説明用）\n",
    "\n",
    "ファイル|役割\n",
    "--|--\n",
    "alice-public.pem|アリスの公開鍵\n",
    "alice-private.pem|アリスの秘密鍵\n",
    "alice-message|アリスのメッセージ\n",
    "alice-hash|アリスのメッセージのハッシュ値\n",
    "alice-hash-secret|アリスのメッセージのハッシュ値の「暗号文」"
   ]
  },
  {
   "cell_type": "code",
   "execution_count": null,
   "metadata": {
    "id": "8WbU6hPOxR5S"
   },
   "outputs": [],
   "source": [
    "#アリスのメッセージのハッシュ値\n",
    "!openssl md5 alice-message > alice-hash\n",
    "!cat alice-hash"
   ]
  },
  {
   "cell_type": "code",
   "execution_count": null,
   "metadata": {
    "id": "ha0cMMTEwhXL"
   },
   "outputs": [],
   "source": [
    "#改ざんされたメッセージのハッシュ値\n",
    "!echo -n \"HELL0\" | openssl md5"
   ]
  },
  {
   "cell_type": "code",
   "execution_count": null,
   "metadata": {
    "id": "A4l5yYfFxA_m"
   },
   "outputs": [],
   "source": [
    "#(1) アリスが，秘密鍵を使ってハッシュ値の「暗号文」を作る．\n",
    "!openssl pkeyutl -sign -inkey alice-private.pem -in alice-hash -out alice-hash-secret"
   ]
  },
  {
   "cell_type": "code",
   "execution_count": null,
   "metadata": {
    "id": "cmL1mgaOxe_0"
   },
   "outputs": [],
   "source": [
    "#(2) アリスが，メッセージ，「暗号文」，公開鍵を公開する．\n",
    "\n",
    "#(3) ボブが，アリスのメッセージ，「暗号文」，公開鍵を取得する．\n",
    "\n",
    "#(4) ボブが，アリスのメッセージのハッシュ値を求める．\n",
    "!openssl md5 alice-message"
   ]
  },
  {
   "cell_type": "code",
   "execution_count": null,
   "metadata": {
    "id": "8O2OdTOsXNYt"
   },
   "outputs": [],
   "source": [
    "#(5) ボブが，アリスの公開鍵を使って「暗号文」を復号する．\n",
    "!openssl pkeyutl -verifyrecover -pubin -in alice-hash-secret -inkey alice-public.pem"
   ]
  },
  {
   "cell_type": "markdown",
   "metadata": {
    "id": "xO4_95YA4Pdp"
   },
   "source": [
    "#### デジタル署名（実用）\n",
    "\n",
    "ファイル|役割\n",
    "--|--\n",
    "alice-public.pem|アリスの公開鍵\n",
    "alice-private.pem|アリスの秘密鍵\n",
    "alice-message|アリスのメッセージ\n",
    "alice-signature|アリスのメッセージのデジタル署名\n",
    "\n"
   ]
  },
  {
   "cell_type": "code",
   "execution_count": null,
   "metadata": {
    "id": "_w2l_xnW3nW4"
   },
   "outputs": [],
   "source": [
    "#(1) アリスが，秘密鍵を使ってメッセージのデジタル署名を作る．\n",
    "!openssl dgst -md5 -sign alice-private.pem -out alice-signature alice-message"
   ]
  },
  {
   "cell_type": "code",
   "execution_count": null,
   "metadata": {
    "id": "rXbpR1bZ3Mm-"
   },
   "outputs": [],
   "source": [
    "#(2) アリスが，メッセージ，デジタル署名，公開鍵を公開する．\n",
    "\n",
    "#(3) ボブが，アリスのメッセージ，デジタル署名，公開鍵を取得する．\n",
    "\n",
    "#(4) ボブが，アリスの公開鍵を使って，アリスのメッセージとデジタル署名を検証する．\n",
    "!openssl dgst -md5 -verify alice-public.pem -signature alice-signature alice-message"
   ]
  },
  {
   "cell_type": "markdown",
   "metadata": {
    "id": "dxDBR-m15N7E"
   },
   "source": [
    "### 8.3.3 デジタル証明書"
   ]
  },
  {
   "cell_type": "markdown",
   "metadata": {
    "id": "DpRyGfSrLl5H"
   },
   "source": [
    "## 8.4 ウェブの安全性"
   ]
  },
  {
   "cell_type": "markdown",
   "metadata": {
    "id": "c7_Nm7yFLmuI"
   },
   "source": [
    "### 8.4.1 TLS"
   ]
  }
 ],
 "metadata": {
  "colab": {
   "collapsed_sections": [],
   "provenance": []
  },
  "kernelspec": {
   "display_name": "Python 3 (ipykernel)",
   "language": "python",
   "name": "python3"
  },
  "language_info": {
   "codemirror_mode": {
    "name": "ipython",
    "version": 3
   },
   "file_extension": ".py",
   "mimetype": "text/x-python",
   "name": "python",
   "nbconvert_exporter": "python",
   "pygments_lexer": "ipython3",
   "version": "3.10.12"
  }
 },
 "nbformat": 4,
 "nbformat_minor": 4
}
