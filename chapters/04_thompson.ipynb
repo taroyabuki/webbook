{
  "nbformat": 4,
  "nbformat_minor": 0,
  "metadata": {
    "colab": {
      "provenance": [],
      "toc_visible": true
    },
    "kernelspec": {
      "name": "python3",
      "display_name": "Python 3"
    },
    "language_info": {
      "name": "python"
    }
  },
  "cells": [
    {
      "cell_type": "markdown",
      "source": [
        "[矢吹太朗『Webのしくみ』（サイエンス社, 2020）](https://github.com/taroyabuki/webbook)\n",
        "\n",
        "下のアイコンをクリックすれば，この文書に掲載されているコードを，Google Colab上で実行できます．（Googleのアカウントが必要です．）\n",
        "\n",
        "[![Open In Colab](https://colab.research.google.com/assets/colab-badge.svg)](https://colab.research.google.com/github/taroyabuki/webbook/blob/master/chapters/04_thompson.ipynb)"
      ],
      "metadata": {
        "id": "c20d0IgV5xr9"
      }
    },
    {
      "cell_type": "markdown",
      "source": [
        "# C言語のプログラムの実行方法・トンプソンハック"
      ],
      "metadata": {
        "id": "LK21CVrzI0Ep"
      }
    },
    {
      "cell_type": "markdown",
      "source": [
        "## hello, world\n",
        "\n",
        "「hello, world」と表示するプログラムのC言語のコードを書く。"
      ],
      "metadata": {
        "id": "LYHa3bdlI7WI"
      }
    },
    {
      "cell_type": "code",
      "source": [
        "%%writefile hello.c\n",
        "#include <stdio.h>\n",
        "int main() {\n",
        "  printf(\"hello, world\\n\");\n",
        "}"
      ],
      "metadata": {
        "id": "h0aeUMlzJFMj"
      },
      "execution_count": null,
      "outputs": []
    },
    {
      "cell_type": "markdown",
      "source": [
        "コンパイルする。"
      ],
      "metadata": {
        "id": "R0xzs5bUJR7Q"
      }
    },
    {
      "cell_type": "code",
      "source": [
        "!gcc hello.c"
      ],
      "metadata": {
        "id": "DLbT1Jj_JQck"
      },
      "execution_count": null,
      "outputs": []
    },
    {
      "cell_type": "markdown",
      "source": [
        "実行する。"
      ],
      "metadata": {
        "id": "8C1GB48pJWk-"
      }
    },
    {
      "cell_type": "code",
      "source": [
        "!./a.out"
      ],
      "metadata": {
        "id": "xqYgafqrJYMv"
      },
      "execution_count": null,
      "outputs": []
    },
    {
      "cell_type": "markdown",
      "source": [
        "教科書の図4.3の再現"
      ],
      "metadata": {
        "id": "WKB9Qp1VJt1f"
      }
    },
    {
      "cell_type": "code",
      "source": [
        "!gcc hello.c\n",
        "!od -An -tx a.out"
      ],
      "metadata": {
        "id": "8kcS1GIYJbZe"
      },
      "execution_count": null,
      "outputs": []
    },
    {
      "cell_type": "markdown",
      "source": [
        "## Quine（トンプソンハックのための準備）\n",
        "\n",
        "> どんなコンピュータにも絶対の信頼を置くべきではないというのが本当で，重要なことをオンライン投票で決めるのは，途方もなく無謀で危険なことなのである。これは重大な主張であり，即刻懐疑的な反応が出てきそうだ。&mdash;しかし，それは私たちの目的には好都合だ。オンライン投票またはコンピュータによる投票は安全で，簡単で，便利だと思う人が多くなるほど，あなたは彼らの国家を盗みやすくなるのだから。\n",
        ">\n",
        "> じゃあ，がんばってやってみよう！\n",
        "\n",
        "- <img src=\"https://ndlsearch.ndl.go.jp/thumbnail/9784152102553.jpg\" alt=\"科学でかなえる世界征服\"> ライアン・ノース『科学でかなえる世界征服』（早川書房, 2023）\n",
        "  1. 「ログイン」のコード→（悪のコンパイラのコード→の悪のコンパイラの実行形式）→「バックドアを仕込まれたログイン」　**「ログイン」のコードからは悪事を検出できない。**\n",
        "  1. 「善いコンパイラ」のコード→（「悪のコンパイラ」の実行形式）→「悪のコンパイラ」　**「善いコンパイラ」のソースコードからは悪事を検出できない。**\n",
        "  1. 電子投票システムを「悪のコンパイラ」のターゲットにする。\n",
        "  1. “選挙の必須条件：開かれており，厳重に警備されており，匿名性が保て，透明で，正確”\n",
        "  1. “私たちが実生活で出くわすたいていのこと&mdash;は，この必要条件のすべてを満たしているわけではないか，あるいは，満たしていたとすればそれは，大して重要ではないかのいずれかである。”\n",
        "    - クレジットカード？　詐欺に対して補償してもそれで信頼してもらえるならよい。\n",
        "    - オンラインバンキングも同じ。\n",
        "  1. “選挙が全体として攻撃された場合は，そういうよくある低リスク事例の1つではない。選挙は，ハッキングが，修復不可能な大きな影響を及ぼし得るケースだ。なぜなら，終わってしまったあとで，ある選挙全体の最終結果を修正するのは容易ではないからだ。”\n",
        "  1. 似た攻撃：\n",
        "    - イランのウラン濃縮用遠心分離機に対する攻撃（2010）\n",
        "    - OpenSSLの「ハートブリード」バグ（2011）\n",
        "    - フォルクスワーゲンの車両に搭載されているコンピュータの不正（2015）\n",
        "  1. ブロックチェーン？　匿名性が破られやすい。\n",
        "  1. 紙の投票用紙？　“1人の悪人の行為で与えられる損傷の大きさが制限されている。\n",
        "  1. オンライン投票の導入例：\n",
        "    - スイス：オンライン投票ができるのは有権者の10%\n",
        "    - フランス：2003年に開始，2017年にセキュリティ上の懸念で中断\n",
        "    - ドイツ：2000年に実証実験開始，2009年に停止（一般市民がコードを理解できないため）\n",
        "\n",
        "> 教訓は明白だ。自分で完全に作成していないコードは信用してはいけない。（特に私のような人間を雇っている会社のコードは。）いくらソース・レベルでの検証や精査を行っても、信頼できないコードからあなたを守ることはできない。（ケン・トンプソン）\n",
        "\n",
        "- トンプソンハック\n",
        "  - [Ken Thompson. Reflections on trusting trust. <em>Communications of the ACM</em>, Vol. 27, No. 8, pp. 761&ndash;763, August 1984.](https://dl.acm.org/doi/10.1145/358198.358210)\n",
        "  - [Yasunori Kuji訳「信頼を信頼することについての考察」](https://qiita.com/uturned0/items/95dad5cd688c3c9f5df9)\n",
        "  - [https://www.google.com/search?q=トンプソン・ハック](https://www.google.com/search?q=%E3%83%88%E3%83%B3%E3%83%97%E3%82%BD%E3%83%B3%E3%83%BB%E3%83%8F%E3%83%83%E3%82%AF)\n",
        "  - 対策の例：[oriansj/stage0](https://github.com/oriansj/stage0)\n",
        "    - https://x.com/EzoeRyou/status/1429720956847595520\n",
        "- ハードウェアも信用できない。例：レバノンのポケベル爆発（2024）\n",
        "\n"
      ],
      "metadata": {
        "id": "VKgYR2KpBAzn"
      }
    },
    {
      "cell_type": "markdown",
      "source": [
        "説明のためのQuineを作る。（トンプソンのQuineは後で示す。）\n",
        "\n",
        "> 知られている限り最も単純なANSI CのQuine。コンパイラの警告が出ないもの\n",
        "\n",
        "Geminiの結果を示す。"
      ],
      "metadata": {
        "id": "zTBgVXK3Uksn"
      }
    },
    {
      "cell_type": "code",
      "source": [
        "%%writefile quine.c\n",
        "#include <stdio.h>\n",
        "const char *s = \"#include <stdio.h>%cconst char *s = %c%s%c;%cint main() { printf(s, 10, 34, s, 34, 10, 10); return 0; }%c\";\n",
        "int main() { printf(s, 10, 34, s, 34, 10, 10); return 0; }"
      ],
      "metadata": {
        "id": "fupeLFrSTttW"
      },
      "execution_count": null,
      "outputs": []
    },
    {
      "cell_type": "code",
      "source": [
        "!gcc quine.c\n",
        "!./a.out"
      ],
      "metadata": {
        "id": "Z_kIxST0Tx4K"
      },
      "execution_count": null,
      "outputs": []
    },
    {
      "cell_type": "markdown",
      "source": [
        "## ♠トンプソンのQuine\n",
        "\n",
        "文献のコードがQuineになるように，AIを使って修正する。"
      ],
      "metadata": {
        "id": "Etzw0X3dCCOs"
      }
    },
    {
      "cell_type": "markdown",
      "source": [
        "```\n",
        "★の部分を補ってQuineになるようにして。★のところ以外は変更しないで。出力をone.cとして，one.cがQuineになっていればよい。\n",
        "char  s[] = {\n",
        "\t'\\t',\n",
        "\t'0',\n",
        "\t'\\n',\n",
        "\t'}',\n",
        "\t';',\n",
        "\t'\\n',\n",
        "\t'\\n',\n",
        "\t'/',\n",
        "\t'*',\n",
        "\t'\\n',\n",
        "  ★\n",
        "\t0\n",
        "};\n",
        "\n",
        "/*\n",
        " * The string s is a\n",
        " * representation of the body\n",
        " * of this program from '0'\n",
        " * to the end.\n",
        " */\n",
        "\n",
        "main()\n",
        "{\n",
        "\tint i;\n",
        "\n",
        "\tprintf(\"char\\ts[] = {\\n\");\n",
        "\tfor(i=0; s[i]; i++)\n",
        "\t\tprintf(\"\\t%d,\\n\", s[i]);\n",
        "\tprintf(\"%s\", s);\n",
        "}\n",
        "```"
      ],
      "metadata": {
        "id": "0NbDK4YdNpmJ"
      }
    },
    {
      "cell_type": "markdown",
      "source": [
        "Claudeの結果を示す。"
      ],
      "metadata": {
        "id": "EL-7vCkJSV2_"
      }
    },
    {
      "cell_type": "code",
      "source": [
        "%%writefile quine.c\n",
        "char  s[] = {\n",
        "\t'\\t',\n",
        "\t'0',\n",
        "\t'\\n',\n",
        "\t'}',\n",
        "\t';',\n",
        "\t'\\n',\n",
        "\t'\\n',\n",
        "\t'/',\n",
        "\t'*',\n",
        "\t'\\n',\n",
        "\t' ',\n",
        "\t'*',\n",
        "\t' ',\n",
        "\t'T',\n",
        "\t'h',\n",
        "\t'e',\n",
        "\t' ',\n",
        "\t's',\n",
        "\t't',\n",
        "\t'r',\n",
        "\t'i',\n",
        "\t'n',\n",
        "\t'g',\n",
        "\t' ',\n",
        "\t's',\n",
        "\t' ',\n",
        "\t'i',\n",
        "\t's',\n",
        "\t' ',\n",
        "\t'a',\n",
        "\t'\\n',\n",
        "\t' ',\n",
        "\t'*',\n",
        "\t' ',\n",
        "\t'r',\n",
        "\t'e',\n",
        "\t'p',\n",
        "\t'r',\n",
        "\t'e',\n",
        "\t's',\n",
        "\t'e',\n",
        "\t'n',\n",
        "\t't',\n",
        "\t'a',\n",
        "\t't',\n",
        "\t'i',\n",
        "\t'o',\n",
        "\t'n',\n",
        "\t' ',\n",
        "\t'o',\n",
        "\t'f',\n",
        "\t' ',\n",
        "\t't',\n",
        "\t'h',\n",
        "\t'e',\n",
        "\t' ',\n",
        "\t'b',\n",
        "\t'o',\n",
        "\t'd',\n",
        "\t'y',\n",
        "\t'\\n',\n",
        "\t' ',\n",
        "\t'*',\n",
        "\t' ',\n",
        "\t'o',\n",
        "\t'f',\n",
        "\t' ',\n",
        "\t't',\n",
        "\t'h',\n",
        "\t'i',\n",
        "\t's',\n",
        "\t' ',\n",
        "\t'p',\n",
        "\t'r',\n",
        "\t'o',\n",
        "\t'g',\n",
        "\t'r',\n",
        "\t'a',\n",
        "\t'm',\n",
        "\t' ',\n",
        "\t'f',\n",
        "\t'r',\n",
        "\t'o',\n",
        "\t'm',\n",
        "\t' ',\n",
        "\t'\\'',\n",
        "\t'0',\n",
        "\t'\\'',\n",
        "\t'\\n',\n",
        "\t' ',\n",
        "\t'*',\n",
        "\t' ',\n",
        "\t't',\n",
        "\t'o',\n",
        "\t' ',\n",
        "\t't',\n",
        "\t'h',\n",
        "\t'e',\n",
        "\t' ',\n",
        "\t'e',\n",
        "\t'n',\n",
        "\t'd',\n",
        "\t'.',\n",
        "\t'\\n',\n",
        "\t' ',\n",
        "\t'*',\n",
        "\t'/',\n",
        "\t'\\n',\n",
        "\t'\\n',\n",
        "\t'm',\n",
        "\t'a',\n",
        "\t'i',\n",
        "\t'n',\n",
        "\t'(',\n",
        "\t')',\n",
        "\t'\\n',\n",
        "\t'{',\n",
        "\t'\\n',\n",
        "\t'\\t',\n",
        "\t'i',\n",
        "\t'n',\n",
        "\t't',\n",
        "\t' ',\n",
        "\t'i',\n",
        "\t';',\n",
        "\t'\\n',\n",
        "\t'\\t',\n",
        "\t'\\n',\n",
        "\t'\\t',\n",
        "\t'p',\n",
        "\t'r',\n",
        "\t'i',\n",
        "\t'n',\n",
        "\t't',\n",
        "\t'f',\n",
        "\t'(',\n",
        "\t'\"',\n",
        "\t'c',\n",
        "\t'h',\n",
        "\t'a',\n",
        "\t'r',\n",
        "\t'\\\\',\n",
        "\t't',\n",
        "\t's',\n",
        "\t'[',\n",
        "\t']',\n",
        "\t' ',\n",
        "\t'=',\n",
        "\t' ',\n",
        "\t'{',\n",
        "\t'\\\\',\n",
        "\t'n',\n",
        "\t'\"',\n",
        "\t')',\n",
        "\t';',\n",
        "\t'\\n',\n",
        "\t'\\t',\n",
        "\t'f',\n",
        "\t'o',\n",
        "\t'r',\n",
        "\t'(',\n",
        "\t'i',\n",
        "\t'=',\n",
        "\t'0',\n",
        "\t';',\n",
        "\t' ',\n",
        "\t's',\n",
        "\t'[',\n",
        "\t'i',\n",
        "\t']',\n",
        "\t';',\n",
        "\t' ',\n",
        "\t'i',\n",
        "\t'+',\n",
        "\t'+',\n",
        "\t')',\n",
        "\t'\\n',\n",
        "\t'\\t',\n",
        "\t'\\t',\n",
        "\t'p',\n",
        "\t'r',\n",
        "\t'i',\n",
        "\t'n',\n",
        "\t't',\n",
        "\t'f',\n",
        "\t'(',\n",
        "\t'\"',\n",
        "\t'\\\\',\n",
        "\t't',\n",
        "\t'%',\n",
        "\t'd',\n",
        "\t',',\n",
        "\t'\\\\',\n",
        "\t'n',\n",
        "\t'\"',\n",
        "\t',',\n",
        "\t' ',\n",
        "\t's',\n",
        "\t'[',\n",
        "\t'i',\n",
        "\t']',\n",
        "\t')',\n",
        "\t';',\n",
        "\t'\\n',\n",
        "\t'\\t',\n",
        "\t'p',\n",
        "\t'r',\n",
        "\t'i',\n",
        "\t'n',\n",
        "\t't',\n",
        "\t'f',\n",
        "\t'(',\n",
        "\t'\"',\n",
        "\t'%',\n",
        "\t's',\n",
        "\t'\"',\n",
        "\t',',\n",
        "\t' ',\n",
        "\t's',\n",
        "\t')',\n",
        "\t';',\n",
        "\t'\\n',\n",
        "\t'}',\n",
        "\t0\n",
        "};\n",
        "\n",
        "/*\n",
        " * The string s is a\n",
        " * representation of the body\n",
        " * of this program from '0'\n",
        " * to the end.\n",
        " */\n",
        "\n",
        "main()\n",
        "{\n",
        "\tint i;\n",
        "\n",
        "\tprintf(\"char\\ts[] = {\\n\");\n",
        "\tfor(i=0; s[i]; i++)\n",
        "\t\tprintf(\"\\t%d,\\n\", s[i]);\n",
        "\tprintf(\"%s\", s);\n",
        "}"
      ],
      "metadata": {
        "id": "utKm_ErYNbeq"
      },
      "execution_count": null,
      "outputs": []
    },
    {
      "cell_type": "markdown",
      "source": [
        "C言語のコードの形式が古いから，それを許容するためのオプションを設定してコンパイルする。実行結果をone.cとすると，one.cがQuineになっている。その実行結果をtwo.cとすると，one.cとtwo.cが同じになる。"
      ],
      "metadata": {
        "id": "39HMXz19COgA"
      }
    },
    {
      "cell_type": "code",
      "source": [
        "!gcc -Wno-implicit-function-declaration -Wno-builtin-declaration-mismatch -Wno-implicit-int quine.c\n",
        "!./a.out > one.c\n",
        "!gcc -Wno-implicit-function-declaration -Wno-builtin-declaration-mismatch -Wno-implicit-int one.c\n",
        "!./a.out > two.c\n",
        "!diff one.c two.c"
      ],
      "metadata": {
        "id": "WmEwp5JIN3aU"
      },
      "execution_count": null,
      "outputs": []
    }
  ]
}