{
  "cells": [
    {
      "cell_type": "markdown",
      "metadata": {
        "id": "CdoHSUoZLXeG"
      },
      "source": [
        "[矢吹太朗『Webのしくみ』（サイエンス社, 2020）](https://github.com/taroyabuki/webbook)\n",
        "\n",
        "下のアイコンをクリックすれば，この文書に掲載されているコードを，Google Colab上で実行できます．（Googleのアカウントが必要です．）\n",
        "\n",
        "[![Open In Colab](https://colab.research.google.com/assets/colab-badge.svg)](https://colab.research.google.com/github/taroyabuki/webbook/blob/master/chapters/10.4/sql.ipynb)"
      ]
    },
    {
      "cell_type": "markdown",
      "metadata": {
        "id": "ClSfMaJpH2zd"
      },
      "source": [
        "# 第10章 データベース"
      ]
    },
    {
      "cell_type": "markdown",
      "metadata": {
        "id": "XC0Bd5vaH_X9"
      },
      "source": [
        "## 10.4 データベースのための言語"
      ]
    },
    {
      "cell_type": "code",
      "execution_count": null,
      "metadata": {
        "id": "13_tWHQVqL4y"
      },
      "outputs": [],
      "source": [
        "# このセルをクリックして，Shift+Enterまたは左の▶ボタンを押して実行してください．\n",
        "# このセルのコードは準備のためのものです．理解できなくてかまいません．\n",
        "import pandas as pd\n",
        "import sqlite3\n",
        "!rm -f db.sqlite3\n",
        "con = sqlite3.connect('db.sqlite3')\n",
        "def 実行(sql): return pd.read_sql_query(sql, con)\n",
        "商品の表 = pd.DataFrame({\n",
        "    'ID': [1, 2, 3],\n",
        "    '商品名': ['A', 'B', 'C'],\n",
        "    '価格': [1280, 2980, 198],\n",
        "    '在庫': [1, 0, 121]\n",
        "})\n",
        "商品の表.to_sql('商品の表', con, index=False)\n",
        "商品の表"
      ]
    },
    {
      "cell_type": "markdown",
      "metadata": {
        "id": "MdbZcl2hI-An"
      },
      "source": [
        "上の表で，在庫があるものを知りたいとしましょう．\n",
        "\n",
        "手続き型言語（Python）で実行するなら，次のようになります．（もっとPythonらしいコードについて後で補足します．）"
      ]
    },
    {
      "cell_type": "code",
      "execution_count": null,
      "metadata": {
        "id": "9V72EaR7vAXT"
      },
      "outputs": [],
      "source": [
        "結果 = []                                 # 結果が空の状態から始める．\n",
        "x = 1                                     # xを1とする．\n",
        "while True:                               # 以下をくり返す\n",
        "  try: 商品 = 商品の表.iloc[x - 1]        #   表のx行目の商品を調べる．\n",
        "  except IndexError: break                #   商品がなければプログラムを終わらせる．\n",
        "  if 1 <= 商品['在庫']: 結果.append(商品) #   在庫が1以上なら結果に追加する．\n",
        "  x += 1                                  #   xを1増やす．\n",
        "結果                                      # 結果を表示する．"
      ]
    },
    {
      "cell_type": "markdown",
      "metadata": {
        "id": "pzXxdoPQJVRa"
      },
      "source": [
        "宣言型言語（SQL）で実行するなら，次のようになります．\n",
        "\n",
        "自然言語|SQL\n",
        "--|--\n",
        "商品の表から，|`from 商品の表`\n",
        "在庫が1以上のものの，|`where 1 <= 在庫`\n",
        "すべてのデータを取り出す．|`select *`\n",
        "\n",
        "並べ替えて，正しいSQL文にします．\n",
        "\n",
        "```sql\n",
        "select *\n",
        "from 商品の表\n",
        "where 1 <= 在庫\n",
        "```\n",
        "\n",
        "ここでは，次のように実行します．"
      ]
    },
    {
      "cell_type": "code",
      "execution_count": null,
      "metadata": {
        "id": "t8exPzBFrJ2X"
      },
      "outputs": [],
      "source": [
        "実行('''\n",
        "select *\n",
        "from 商品の表\n",
        "where 1 <= 在庫\n",
        "''')"
      ]
    },
    {
      "cell_type": "markdown",
      "metadata": {
        "id": "TI9FkXN8rJ2X"
      },
      "source": [
        "練習：価格が2000円以上のものを検索してください．"
      ]
    },
    {
      "cell_type": "code",
      "execution_count": null,
      "metadata": {
        "id": "76avlaNLrJ2Y"
      },
      "outputs": [],
      "source": [
        "実行('''\n",
        "\n",
        "''')"
      ]
    },
    {
      "cell_type": "markdown",
      "metadata": {
        "id": "D9TO-9hcKs4E"
      },
      "source": [
        "補足：在庫があるものを，Pythonらしく求めるなら次のようになります．"
      ]
    },
    {
      "cell_type": "code",
      "execution_count": null,
      "metadata": {
        "id": "58XTPX0Pxlh2"
      },
      "outputs": [],
      "source": [
        "[商品 for 商品 in 商品の表.values if 1 <= 商品[3]]"
      ]
    },
    {
      "cell_type": "markdown",
      "metadata": {
        "id": "7C_CHQ2GKyvs"
      },
      "source": [
        "補足：実は，表形式のデータを扱う方法がPyhonで用意されているので，それを使って宣言的に書くこともできます．"
      ]
    },
    {
      "cell_type": "code",
      "execution_count": null,
      "metadata": {
        "id": "hOVm-CVt3u67"
      },
      "outputs": [],
      "source": [
        "商品の表.query('1 <= 在庫')"
      ]
    }
  ],
  "metadata": {
    "colab": {
      "collapsed_sections": [],
      "name": "sql.ipynb",
      "provenance": [],
      "toc_visible": true
    },
    "kernelspec": {
      "display_name": "Python 3",
      "language": "python",
      "name": "python3"
    },
    "language_info": {
      "codemirror_mode": {
        "name": "ipython",
        "version": 3
      },
      "file_extension": ".py",
      "mimetype": "text/x-python",
      "name": "python",
      "nbconvert_exporter": "python",
      "pygments_lexer": "ipython3",
      "version": "3.8.8"
    }
  },
  "nbformat": 4,
  "nbformat_minor": 0
}