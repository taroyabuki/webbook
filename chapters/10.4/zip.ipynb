{
 "cells": [
  {
   "cell_type": "markdown",
   "metadata": {
    "id": "ppNdnF-Xu8qX"
   },
   "source": [
    "[矢吹太朗『Webのしくみ』（サイエンス社, 2020）](https://github.com/taroyabuki/webbook)\n",
    "\n",
    "下のアイコンをクリックすれば，この文書に掲載されているコードを，Google Colab上で実行できます．（Googleのアカウントが必要です．）\n",
    "\n",
    "[![Open In Colab](https://colab.research.google.com/assets/colab-badge.svg)](https://colab.research.google.com/github/taroyabuki/webbook/blob/master/chapters/10.4/zip.ipynb)"
   ]
  },
  {
   "cell_type": "markdown",
   "metadata": {
    "id": "FZZy6VirilZq"
   },
   "source": [
    "# 郵便番号データベースによる体験SQL\n",
    "\n",
    "郵便番号データを使って，SQLでの検索を体験します．\n",
    "\n",
    "まずは準備です．\n",
    "作成済みのデータベースを読み込んで，操作できるようにします．\n",
    "この部分は，理解せずに実行するだけでかまいません．\n",
    "（もちろん，理解しようとしてもかまいません．理解してもかまいません．）\n",
    "\n",
    "コードにカーソルを置いて，左側の▶ボタンをクリックするかShift+Enterで実行してください．"
   ]
  },
  {
   "cell_type": "code",
   "execution_count": null,
   "metadata": {
    "id": "7TxNa1w21LKW"
   },
   "outputs": [],
   "source": [
    "# このセルは準備のためのものなので，理解できなくてかまいません．\n",
    "!wget --quiet https://github.com/taroyabuki/webbook/raw/master/chapters/10.4/zip.sqlite3\n",
    "import pandas as pd\n",
    "import sqlite3\n",
    "con = sqlite3.connect('zip.sqlite3')\n",
    "def 実行(sql): return pd.read_sql_query(sql, con)"
   ]
  },
  {
   "cell_type": "markdown",
   "metadata": {
    "id": "oCBO5m4akAkL"
   },
   "source": [
    "## 例1：全データ取得\n",
    "\n",
    "まずは，\n",
    "\n",
    "```\n",
    "zipという表から，\n",
    "すべての列を取り出す．\n",
    "```\n",
    "\n",
    "という操作をしてみます．\n",
    "次のように翻訳します．\n",
    "\n",
    "```\n",
    "zipという表から， → from zip\n",
    "すべての列を取り出す． → select *\n",
    "```\n",
    "\n",
    "並び替えてSQL文とします．\n",
    "\n",
    "```\n",
    "select *\n",
    "from zip\n",
    "```\n",
    "\n",
    "実行します．\n",
    "\n",
    "```\n",
    "実行('''\n",
    "SQL文\n",
    "''')\n",
    "```\n",
    "\n",
    "↑のように書くと，SQL文が実行されるようにしてあります．\n",
    "ですから，ここで作ったSQL文は，次のように実行します．"
   ]
  },
  {
   "cell_type": "code",
   "execution_count": null,
   "metadata": {
    "colab": {
     "base_uri": "https://localhost:8080/",
     "height": 402
    },
    "executionInfo": {
     "elapsed": 2316,
     "status": "ok",
     "timestamp": 1607437722328,
     "user": {
      "displayName": "Taro Yabuki",
      "photoUrl": "https://lh3.googleusercontent.com/a-/AOh14GjHjYDY6YDkA1dIE9sZqooaa7QEpWsOA6oAOVJ8FQ=s64",
      "userId": "18247905887386484305"
     },
     "user_tz": -540
    },
    "id": "rczFji-RMpS7",
    "outputId": "dd663f15-32ec-4307-f77a-1f803442feb1"
   },
   "outputs": [],
   "source": [
    "実行('''\n",
    "select *\n",
    "from zip\n",
    "''')"
   ]
  },
  {
   "cell_type": "markdown",
   "metadata": {
    "id": "s_5j4aJmj6lV"
   },
   "source": [
    "## 例2：件数\n",
    "\n",
    "`select count(*)`として，件数を得ます．補足：例1の結果にも表示されていますが，それはSQLではなくPythonによるものです．"
   ]
  },
  {
   "cell_type": "code",
   "execution_count": null,
   "metadata": {
    "colab": {
     "base_uri": "https://localhost:8080/",
     "height": 77
    },
    "executionInfo": {
     "elapsed": 2309,
     "status": "ok",
     "timestamp": 1607437722329,
     "user": {
      "displayName": "Taro Yabuki",
      "photoUrl": "https://lh3.googleusercontent.com/a-/AOh14GjHjYDY6YDkA1dIE9sZqooaa7QEpWsOA6oAOVJ8FQ=s64",
      "userId": "18247905887386484305"
     },
     "user_tz": -540
    },
    "id": "r5Q7tpKiM3kq",
    "outputId": "74828a7c-54d5-4961-d5dd-4fd0ce643f80"
   },
   "outputs": [],
   "source": [
    "実行('''\n",
    "select count(*)\n",
    "from zip\n",
    "''')"
   ]
  },
  {
   "cell_type": "markdown",
   "metadata": {
    "id": "cf8DmjPokjx3"
   },
   "source": [
    "## 例3：条件\n",
    "\n",
    "`where 条件`として，条件を設定します．\n",
    "「where」は「場所」というよりは「場合」のことだと考えましょう．"
   ]
  },
  {
   "cell_type": "markdown",
   "metadata": {
    "id": "5LcFzetWmWSM"
   },
   "source": [
    "### 例3.1：完全一致\n",
    "\n",
    "等号は`=`，等号否定は`!=`や`<>`です．"
   ]
  },
  {
   "cell_type": "code",
   "execution_count": null,
   "metadata": {
    "colab": {
     "base_uri": "https://localhost:8080/",
     "height": 77
    },
    "executionInfo": {
     "elapsed": 2297,
     "status": "ok",
     "timestamp": 1607437722330,
     "user": {
      "displayName": "Taro Yabuki",
      "photoUrl": "https://lh3.googleusercontent.com/a-/AOh14GjHjYDY6YDkA1dIE9sZqooaa7QEpWsOA6oAOVJ8FQ=s64",
      "userId": "18247905887386484305"
     },
     "user_tz": -540
    },
    "id": "kNooqDRkM_PK",
    "outputId": "0610b3bd-e3a2-4c4a-c23a-f2f79efb4f5f"
   },
   "outputs": [],
   "source": [
    "実行('''\n",
    "select *\n",
    "from zip\n",
    "where code = '2758588'\n",
    "''')"
   ]
  },
  {
   "cell_type": "markdown",
   "metadata": {
    "id": "oPicOt2BmcNg"
   },
   "source": [
    "### 例3.2 部分一致\n",
    "\n",
    "任意の文字列を「`%`」で表し，「`%`」を含む文字列との比較を`like`や`not like`で行います．\n",
    "\n",
    "27から始まる郵便番号を検索します．"
   ]
  },
  {
   "cell_type": "code",
   "execution_count": null,
   "metadata": {
    "colab": {
     "base_uri": "https://localhost:8080/",
     "height": 402
    },
    "executionInfo": {
     "elapsed": 2288,
     "status": "ok",
     "timestamp": 1607437722331,
     "user": {
      "displayName": "Taro Yabuki",
      "photoUrl": "https://lh3.googleusercontent.com/a-/AOh14GjHjYDY6YDkA1dIE9sZqooaa7QEpWsOA6oAOVJ8FQ=s64",
      "userId": "18247905887386484305"
     },
     "user_tz": -540
    },
    "id": "GPBEBMrvNMU7",
    "outputId": "0e5d94a6-ef05-44da-8b9b-7630b2d4b89c"
   },
   "outputs": [],
   "source": [
    "実行('''\n",
    "select *\n",
    "from zip\n",
    "where code like '27%'\n",
    "''')"
   ]
  },
  {
   "cell_type": "code",
   "execution_count": null,
   "metadata": {
    "colab": {
     "base_uri": "https://localhost:8080/",
     "height": 77
    },
    "executionInfo": {
     "elapsed": 2281,
     "status": "ok",
     "timestamp": 1607437722332,
     "user": {
      "displayName": "Taro Yabuki",
      "photoUrl": "https://lh3.googleusercontent.com/a-/AOh14GjHjYDY6YDkA1dIE9sZqooaa7QEpWsOA6oAOVJ8FQ=s64",
      "userId": "18247905887386484305"
     },
     "user_tz": -540
    },
    "id": "q9AX0DN2qfgT",
    "outputId": "02b981cf-b738-4766-f280-e9c1ffdc4753"
   },
   "outputs": [],
   "source": [
    "実行('''\n",
    "select count(*)\n",
    "from zip\n",
    "where code like '27%'\n",
    "''')"
   ]
  },
  {
   "cell_type": "markdown",
   "metadata": {
    "id": "h0eQlPYImv2L"
   },
   "source": [
    "### 例3.3 条件の組合せ\n",
    "\n",
    "条件を組み合わせるときは，`and`や`or`を使います．"
   ]
  },
  {
   "cell_type": "code",
   "execution_count": null,
   "metadata": {
    "colab": {
     "base_uri": "https://localhost:8080/",
     "height": 402
    },
    "executionInfo": {
     "elapsed": 2274,
     "status": "ok",
     "timestamp": 1607437722332,
     "user": {
      "displayName": "Taro Yabuki",
      "photoUrl": "https://lh3.googleusercontent.com/a-/AOh14GjHjYDY6YDkA1dIE9sZqooaa7QEpWsOA6oAOVJ8FQ=s64",
      "userId": "18247905887386484305"
     },
     "user_tz": -540
    },
    "id": "qC484HL7NdNS",
    "outputId": "c78230a6-4bf1-4a53-902b-04125d3811ce"
   },
   "outputs": [],
   "source": [
    "実行('''\n",
    "select *\n",
    "from zip\n",
    "where address1 = '北海道' and address2 like '%中央区%'\n",
    "''')"
   ]
  },
  {
   "cell_type": "markdown",
   "metadata": {
    "id": "USBpBduvnurB"
   },
   "source": [
    "### 練習\n",
    "\n",
    "officeに「千葉工」を含むデータの件数を求めてみましょう．"
   ]
  },
  {
   "cell_type": "code",
   "execution_count": null,
   "metadata": {
    "id": "nFo8eRFzR_Ez"
   },
   "outputs": [],
   "source": [
    "# ここにコードを書いて，実行して試してみてください．（いろいろ試したい場合は，左上の「＋ コード」をクリックして，セルを追加するといいでしょう．）\n",
    "実行('''\n",
    "\n",
    "''')"
   ]
  },
  {
   "cell_type": "markdown",
   "metadata": {
    "id": "_xZ6wwXRxIgN"
   },
   "source": [
    "# 補足：Pythonだけで完結させる（やらなくていいです）\n",
    "\n",
    "Pythonは基本的には手続き型のプログラミング言語ですが，表形式のデータを宣言的に扱うしくみが用意されています．"
   ]
  },
  {
   "cell_type": "code",
   "execution_count": null,
   "metadata": {
    "id": "tEf7OHu54UmR"
   },
   "outputs": [],
   "source": [
    "# 準備\n",
    "import pandas as pd\n",
    "data = pd.read_csv('https://github.com/taroyabuki/webbook/raw/master/chapters/10.4/zip.csv', converters={0:str}, keep_default_na=False)"
   ]
  },
  {
   "cell_type": "code",
   "execution_count": null,
   "metadata": {
    "colab": {
     "base_uri": "https://localhost:8080/",
     "height": 402
    },
    "executionInfo": {
     "elapsed": 3947,
     "status": "ok",
     "timestamp": 1607437724016,
     "user": {
      "displayName": "Taro Yabuki",
      "photoUrl": "https://lh3.googleusercontent.com/a-/AOh14GjHjYDY6YDkA1dIE9sZqooaa7QEpWsOA6oAOVJ8FQ=s64",
      "userId": "18247905887386484305"
     },
     "user_tz": -540
    },
    "id": "AisqXGizocSs",
    "outputId": "8992a94f-6f7e-4577-ac8e-ba578b08eb37"
   },
   "outputs": [],
   "source": [
    "# 全データ\n",
    "data"
   ]
  },
  {
   "cell_type": "code",
   "execution_count": null,
   "metadata": {
    "colab": {
     "base_uri": "https://localhost:8080/",
     "height": 77
    },
    "executionInfo": {
     "elapsed": 3927,
     "status": "ok",
     "timestamp": 1607437724017,
     "user": {
      "displayName": "Taro Yabuki",
      "photoUrl": "https://lh3.googleusercontent.com/a-/AOh14GjHjYDY6YDkA1dIE9sZqooaa7QEpWsOA6oAOVJ8FQ=s64",
      "userId": "18247905887386484305"
     },
     "user_tz": -540
    },
    "id": "4q3cSdspceA0",
    "outputId": "4f1099ce-10b5-4a2a-86d1-5d8ca5226a87"
   },
   "outputs": [],
   "source": [
    "# 完全一致\n",
    "data.query(\"code == '2758588'\")"
   ]
  },
  {
   "cell_type": "code",
   "execution_count": null,
   "metadata": {
    "colab": {
     "base_uri": "https://localhost:8080/",
     "height": 402
    },
    "executionInfo": {
     "elapsed": 3918,
     "status": "ok",
     "timestamp": 1607437724018,
     "user": {
      "displayName": "Taro Yabuki",
      "photoUrl": "https://lh3.googleusercontent.com/a-/AOh14GjHjYDY6YDkA1dIE9sZqooaa7QEpWsOA6oAOVJ8FQ=s64",
      "userId": "18247905887386484305"
     },
     "user_tz": -540
    },
    "id": "6zmQr5tIzNu8",
    "outputId": "1ba8f373-0546-4f1d-df47-4d285a2892f3"
   },
   "outputs": [],
   "source": [
    "# 部分一致（27で始まる郵便番号）\n",
    "# startswithをcontainsにすると「・・・を含む」になる．\n",
    "# startswithをendswithにすると「・・・で終わる」になる．\n",
    "data.query(\"code.str.startswith('27')\", engine='python')"
   ]
  },
  {
   "cell_type": "code",
   "execution_count": null,
   "metadata": {
    "colab": {
     "base_uri": "https://localhost:8080/",
     "height": 402
    },
    "executionInfo": {
     "elapsed": 4301,
     "status": "ok",
     "timestamp": 1607437724414,
     "user": {
      "displayName": "Taro Yabuki",
      "photoUrl": "https://lh3.googleusercontent.com/a-/AOh14GjHjYDY6YDkA1dIE9sZqooaa7QEpWsOA6oAOVJ8FQ=s64",
      "userId": "18247905887386484305"
     },
     "user_tz": -540
    },
    "id": "Zn5NsaP4LWbN",
    "outputId": "76b401aa-d005-44c4-f29d-3d606cf50333"
   },
   "outputs": [],
   "source": [
    "# 条件の組合せ\n",
    "data.query(\"address1 == '北海道' and address2.str.contains('中央区')\", engine='python')"
   ]
  },
  {
   "cell_type": "markdown",
   "metadata": {
    "id": "eKx6SsmEpnYN"
   },
   "source": [
    "### 練習\n",
    "\n",
    "officeに「千葉工」を含むデータの件数を求めてみましょう．"
   ]
  },
  {
   "cell_type": "code",
   "execution_count": null,
   "metadata": {
    "id": "6bUVDOWoSSo0"
   },
   "outputs": [],
   "source": [
    "# ここにコードを書いて，実行して試してみてください．（いろいろ試したい場合は，左上の「＋ コード」をクリックして，セルを追加するといいでしょう．）"
   ]
  },
  {
   "cell_type": "markdown",
   "metadata": {
    "id": "XGPgtb8dPrmB"
   },
   "source": [
    "# 補足：シェルだけで完結させる（やらなくていいです）\n",
    "\n",
    "ここでやっている程度の話は，Pythonのような汎用プログラミング言語を持ち出すまでもなく，シェルスクリプトという簡易的なプログラムでも解決できます．\n",
    "\n",
    "awkをいうコマンドを使いますが，これを大学の授業で学ぶことはおそらくないので，興味のある人は自分で勉強してください．\n",
    "awkの簡単な使い方くらい，常識として知っておいてもいいですよ．\n",
    "\n",
    "参考書\n",
    "\n",
    "- [Dale Doughertyほか『sed & awkプログラミング』（オライリー・ジャパン, 改訂版, 1997）](https://calil.jp/book/4900900583)\n",
    "- [エイホほか『プログラミング言語AWK』（USP研究所, 2010）](https://calil.jp/book/4904807006)\n",
    "\n",
    "以下，「`-F,`」は「コンマで分割する」という意味です．"
   ]
  },
  {
   "cell_type": "code",
   "execution_count": null,
   "metadata": {},
   "outputs": [],
   "source": [
    "# ツールのインストール（管理者権限が必要）\n",
    "!apt install gawk | tail -n 1"
   ]
  },
  {
   "cell_type": "code",
   "execution_count": null,
   "metadata": {
    "colab": {
     "base_uri": "https://localhost:8080/"
    },
    "executionInfo": {
     "elapsed": 7281,
     "status": "ok",
     "timestamp": 1607437727396,
     "user": {
      "displayName": "Taro Yabuki",
      "photoUrl": "https://lh3.googleusercontent.com/a-/AOh14GjHjYDY6YDkA1dIE9sZqooaa7QEpWsOA6oAOVJ8FQ=s64",
      "userId": "18247905887386484305"
     },
     "user_tz": -540
    },
    "id": "jaunZim0P1NN",
    "outputId": "0b222d9f-f95f-4a3a-aa01-8e4851729389"
   },
   "outputs": [],
   "source": [
    "# 準備\n",
    "!wget --quiet https://github.com/taroyabuki/webbook/raw/master/chapters/10.4/zip.csv"
   ]
  },
  {
   "cell_type": "code",
   "execution_count": null,
   "metadata": {
    "colab": {
     "base_uri": "https://localhost:8080/"
    },
    "executionInfo": {
     "elapsed": 7276,
     "status": "ok",
     "timestamp": 1607437727397,
     "user": {
      "displayName": "Taro Yabuki",
      "photoUrl": "https://lh3.googleusercontent.com/a-/AOh14GjHjYDY6YDkA1dIE9sZqooaa7QEpWsOA6oAOVJ8FQ=s64",
      "userId": "18247905887386484305"
     },
     "user_tz": -540
    },
    "id": "K8mABv21pw8A",
    "outputId": "7184b4f8-3702-431e-9914-400175f83728"
   },
   "outputs": [],
   "source": [
    "# データの形式\n",
    "!head zip.csv"
   ]
  },
  {
   "cell_type": "code",
   "execution_count": null,
   "metadata": {
    "colab": {
     "base_uri": "https://localhost:8080/"
    },
    "executionInfo": {
     "elapsed": 7269,
     "status": "ok",
     "timestamp": 1607437727397,
     "user": {
      "displayName": "Taro Yabuki",
      "photoUrl": "https://lh3.googleusercontent.com/a-/AOh14GjHjYDY6YDkA1dIE9sZqooaa7QEpWsOA6oAOVJ8FQ=s64",
      "userId": "18247905887386484305"
     },
     "user_tz": -540
    },
    "id": "o4w34WouP5IQ",
    "outputId": "3af813e9-2e9d-45be-9f70-0aa20ab2caec"
   },
   "outputs": [],
   "source": [
    "# 件数（この結果から見出しの分つまり1を引く）\n",
    "!wc -l zip.csv"
   ]
  },
  {
   "cell_type": "code",
   "execution_count": null,
   "metadata": {
    "colab": {
     "base_uri": "https://localhost:8080/"
    },
    "executionInfo": {
     "elapsed": 7257,
     "status": "ok",
     "timestamp": 1607437727398,
     "user": {
      "displayName": "Taro Yabuki",
      "photoUrl": "https://lh3.googleusercontent.com/a-/AOh14GjHjYDY6YDkA1dIE9sZqooaa7QEpWsOA6oAOVJ8FQ=s64",
      "userId": "18247905887386484305"
     },
     "user_tz": -540
    },
    "id": "K4PUSYWLePma",
    "outputId": "e3e0718d-0fa8-44a0-c210-5c8528f116f6"
   },
   "outputs": [],
   "source": [
    "# 完全一致（{print $0}で該当したものを表示する．通常は省略可）\n",
    "!awk -F, '$1==\"\\\"2758588\\\"\" {print $0}' zip.csv"
   ]
  },
  {
   "cell_type": "code",
   "execution_count": null,
   "metadata": {
    "colab": {
     "base_uri": "https://localhost:8080/"
    },
    "executionInfo": {
     "elapsed": 7248,
     "status": "ok",
     "timestamp": 1607437727398,
     "user": {
      "displayName": "Taro Yabuki",
      "photoUrl": "https://lh3.googleusercontent.com/a-/AOh14GjHjYDY6YDkA1dIE9sZqooaa7QEpWsOA6oAOVJ8FQ=s64",
      "userId": "18247905887386484305"
     },
     "user_tz": -540
    },
    "id": "8tPEA7dGQyP2",
    "outputId": "2d149dcd-459f-4e87-bcd8-cf57e4b6a8a4"
   },
   "outputs": [],
   "source": [
    "# 部分一致（27で始まる郵便番号．headを付けて最初の方を表示する．）\n",
    "!awk -F, '$1~/\"27/ {print $0}' zip.csv | head"
   ]
  },
  {
   "cell_type": "code",
   "execution_count": null,
   "metadata": {
    "colab": {
     "base_uri": "https://localhost:8080/"
    },
    "executionInfo": {
     "elapsed": 7680,
     "status": "ok",
     "timestamp": 1607437727837,
     "user": {
      "displayName": "Taro Yabuki",
      "photoUrl": "https://lh3.googleusercontent.com/a-/AOh14GjHjYDY6YDkA1dIE9sZqooaa7QEpWsOA6oAOVJ8FQ=s64",
      "userId": "18247905887386484305"
     },
     "user_tz": -540
    },
    "id": "HAweDM06c1qk",
    "outputId": "458585a0-9f59-439d-93d0-462dd03a6b21"
   },
   "outputs": [],
   "source": [
    "# 部分一致（「 | wc -l」を付けて件数を数える．）\n",
    "!awk -F, '$1~/\"27/ {print $0}' zip.csv | wc -l"
   ]
  },
  {
   "cell_type": "code",
   "execution_count": null,
   "metadata": {
    "colab": {
     "base_uri": "https://localhost:8080/"
    },
    "executionInfo": {
     "elapsed": 7675,
     "status": "ok",
     "timestamp": 1607437727838,
     "user": {
      "displayName": "Taro Yabuki",
      "photoUrl": "https://lh3.googleusercontent.com/a-/AOh14GjHjYDY6YDkA1dIE9sZqooaa7QEpWsOA6oAOVJ8FQ=s64",
      "userId": "18247905887386484305"
     },
     "user_tz": -540
    },
    "id": "CfrzW-MMdJZ3",
    "outputId": "95769864-0de3-4d06-eb5d-50ab83b743b8"
   },
   "outputs": [],
   "source": [
    "# 条件の組合せ\n",
    "!awk -F, '$2==\"\\\"北海道\\\"\" && $3~/中央区/ {print $0}' zip.csv | head"
   ]
  },
  {
   "cell_type": "code",
   "execution_count": null,
   "metadata": {
    "colab": {
     "base_uri": "https://localhost:8080/"
    },
    "executionInfo": {
     "elapsed": 7670,
     "status": "ok",
     "timestamp": 1607437727839,
     "user": {
      "displayName": "Taro Yabuki",
      "photoUrl": "https://lh3.googleusercontent.com/a-/AOh14GjHjYDY6YDkA1dIE9sZqooaa7QEpWsOA6oAOVJ8FQ=s64",
      "userId": "18247905887386484305"
     },
     "user_tz": -540
    },
    "id": "wV6bXq6Kreaq",
    "outputId": "758ccc2e-55d5-481d-cfde-10173f00d978"
   },
   "outputs": [],
   "source": [
    "!awk -F, '$2==\"\\\"北海道\\\"\" && $3~/中央区/ {print $0}' zip.csv | wc -l"
   ]
  },
  {
   "cell_type": "markdown",
   "metadata": {
    "id": "1185FTn7rj3J"
   },
   "source": [
    "### 練習\n",
    "\n",
    "officeに「千葉工」を含むデータの件数を求めてみましょう．"
   ]
  },
  {
   "cell_type": "code",
   "execution_count": null,
   "metadata": {
    "id": "m8MqtdR9SU9q"
   },
   "outputs": [],
   "source": [
    "# ここにコードを書いて，実行して試してみてください．（いろいろ試したい場合は，左上の「＋ コード」をクリックして，セルを追加するといいでしょう．）\n"
   ]
  },
  {
   "cell_type": "markdown",
   "metadata": {
    "id": "zJjltowexneN"
   },
   "source": [
    "# （気が強い人のための）補足：データベースの作り方\n",
    "\n",
    "**最新版のデータを使うため，上に掲載したのとは，違う結果を得る可能性があります．**\n",
    "\n",
    "日本の郵便番号のデータは，https://www.post.japanpost.jp/zipcode/download.html で，CSV形式で公開されています．\n",
    "このデータをダウンロードして，データベースを作ります．\n",
    "\n",
    "SQLite3というデータベース管理システムを使います．\n",
    "SQLite3の操作はPythonで行います．"
   ]
  },
  {
   "cell_type": "code",
   "execution_count": null,
   "metadata": {},
   "outputs": [],
   "source": [
    "# ツールのインストール（管理者権限が必要）\n",
    "!apt install nkf gawk -y | tail -n 1"
   ]
  },
  {
   "cell_type": "code",
   "execution_count": null,
   "metadata": {
    "colab": {
     "base_uri": "https://localhost:8080/"
    },
    "executionInfo": {
     "elapsed": 18187,
     "status": "ok",
     "timestamp": 1607437738366,
     "user": {
      "displayName": "Taro Yabuki",
      "photoUrl": "https://lh3.googleusercontent.com/a-/AOh14GjHjYDY6YDkA1dIE9sZqooaa7QEpWsOA6oAOVJ8FQ=s64",
      "userId": "18247905887386484305"
     },
     "user_tz": -540
    },
    "id": "lItTaYnW3cyA",
    "outputId": "937939c1-5416-4d08-ff33-c9e911e2b1f9"
   },
   "outputs": [],
   "source": [
    "# 準備\n",
    "!rm -f *.zip *.csv *.CSV # 作業ファイルの削除\n",
    "\n",
    "# ダウンロード\n",
    "!wget --quiet https://www.post.japanpost.jp/zipcode/dl/kogaki/zip/ken_all.zip\n",
    "!wget --quiet https://www.post.japanpost.jp/zipcode/dl/jigyosyo/zip/jigyosyo.zip\n",
    "\n",
    "# 展開\n",
    "!unzip -q ken_all.zip\n",
    "!unzip -q jigyosyo.zip\n",
    "\n",
    "# zip.csvの作成\n",
    "!echo 'code,address1,address2,address3,address4,office' > zip.csv\n",
    "\n",
    "# 文字コードの変換と必要なデータの抽出\n",
    "!nkf -Lu -w KEN_ALL.CSV | gawk -F, -v OFS=\",\" '{print $3,$7,$8,$9,\"\\\"\\\"\",\"\\\"\\\"\"}'  >> zip.csv\n",
    "!nkf -Lu -w JIGYOSYO.CSV | gawk -F, -v OFS=\",\" '{print $8,$4,$5,$6,$7,$3}' >> zip.csv"
   ]
  },
  {
   "cell_type": "code",
   "execution_count": null,
   "metadata": {
    "colab": {
     "base_uri": "https://localhost:8080/"
    },
    "executionInfo": {
     "elapsed": 18176,
     "status": "ok",
     "timestamp": 1607437738366,
     "user": {
      "displayName": "Taro Yabuki",
      "photoUrl": "https://lh3.googleusercontent.com/a-/AOh14GjHjYDY6YDkA1dIE9sZqooaa7QEpWsOA6oAOVJ8FQ=s64",
      "userId": "18247905887386484305"
     },
     "user_tz": -540
    },
    "id": "zQ0NeSAR81cN",
    "outputId": "a3696ca8-be44-40a2-e0e9-baa7987a4f1d"
   },
   "outputs": [],
   "source": [
    "# 元のデータはこんな感じ（nkf -wでUTF-8に変換してから，headで先頭部分を表示）\n",
    "!nkf -w KEN_ALL.CSV | head"
   ]
  },
  {
   "cell_type": "code",
   "execution_count": null,
   "metadata": {
    "colab": {
     "base_uri": "https://localhost:8080/"
    },
    "executionInfo": {
     "elapsed": 18170,
     "status": "ok",
     "timestamp": 1607437738367,
     "user": {
      "displayName": "Taro Yabuki",
      "photoUrl": "https://lh3.googleusercontent.com/a-/AOh14GjHjYDY6YDkA1dIE9sZqooaa7QEpWsOA6oAOVJ8FQ=s64",
      "userId": "18247905887386484305"
     },
     "user_tz": -540
    },
    "id": "YL5osQxDzTe9",
    "outputId": "91ed412b-b3b8-4012-a4c6-b06b3094234a"
   },
   "outputs": [],
   "source": [
    "# 抽出後のデータはこんな感じ\n",
    "!head zip.csv"
   ]
  },
  {
   "cell_type": "markdown",
   "metadata": {
    "id": "_h7IXXJp2TeE"
   },
   "source": [
    "一度Pythonで読み込んで，SQLiteのデータベースにデータを挿入する．（zip.sqlite3というファイルができる．これが，作りたかったものである．）"
   ]
  },
  {
   "cell_type": "code",
   "execution_count": null,
   "metadata": {
    "colab": {
     "base_uri": "https://localhost:8080/"
    },
    "executionInfo": {
     "elapsed": 19323,
     "status": "ok",
     "timestamp": 1607437739526,
     "user": {
      "displayName": "Taro Yabuki",
      "photoUrl": "https://lh3.googleusercontent.com/a-/AOh14GjHjYDY6YDkA1dIE9sZqooaa7QEpWsOA6oAOVJ8FQ=s64",
      "userId": "18247905887386484305"
     },
     "user_tz": -540
    },
    "id": "goFpFxeI3lK8",
    "outputId": "4e87e17f-afcd-4fd3-9a90-18c46142a1bc"
   },
   "outputs": [],
   "source": [
    "# Pythonで読み込む\n",
    "import pandas as pd\n",
    "data = pd.read_csv('zip.csv', converters={0:str}, keep_default_na=False)\n",
    "\n",
    "import sqlite3\n",
    "!rm -f zip.sqlite3                   # 既存のデータベースの削除\n",
    "con = sqlite3.connect('zip.sqlite3') # データベースの作成\n",
    "data.to_sql('zip', con, index=False) # データの挿入\n",
    "cur = con.cursor()                   # インデックスの作成（番号での検索を高速化するため）\n",
    "cur.execute('create index code_idx on zip (code)')"
   ]
  },
  {
   "cell_type": "code",
   "execution_count": null,
   "metadata": {
    "colab": {
     "base_uri": "https://localhost:8080/",
     "height": 343
    },
    "executionInfo": {
     "elapsed": 19318,
     "status": "ok",
     "timestamp": 1607437739527,
     "user": {
      "displayName": "Taro Yabuki",
      "photoUrl": "https://lh3.googleusercontent.com/a-/AOh14GjHjYDY6YDkA1dIE9sZqooaa7QEpWsOA6oAOVJ8FQ=s64",
      "userId": "18247905887386484305"
     },
     "user_tz": -540
    },
    "id": "H87iduIY44kQ",
    "outputId": "5afbc8ca-2a90-4619-cb56-b93ff3697a58"
   },
   "outputs": [],
   "source": [
    "# 動作確認\n",
    "pd.read_sql_query('select * from zip limit 10', con)"
   ]
  },
  {
   "cell_type": "code",
   "execution_count": null,
   "metadata": {
    "id": "8a5hDFjq463Y"
   },
   "outputs": [],
   "source": [
    "# データベースを閉じて終了\n",
    "con.close()"
   ]
  }
 ],
 "metadata": {
  "colab": {
   "authorship_tag": "ABX9TyP4eSqE7QQ+Lf5df7AUv+a9",
   "collapsed_sections": [],
   "name": "zip のコピー",
   "provenance": [
    {
     "file_id": "https://github.com/taroyabuki/webbook/blob/master/chapters/10.4/zip.ipynb",
     "timestamp": 1607497073101
    }
   ]
  },
  "kernelspec": {
   "display_name": "Python 3",
   "language": "python",
   "name": "python3"
  },
  "language_info": {
   "codemirror_mode": {
    "name": "ipython",
    "version": 3
   },
   "file_extension": ".py",
   "mimetype": "text/x-python",
   "name": "python",
   "nbconvert_exporter": "python",
   "pygments_lexer": "ipython3",
   "version": "3.8.8"
  }
 },
 "nbformat": 4,
 "nbformat_minor": 1
}
