{
  "nbformat": 4,
  "nbformat_minor": 0,
  "metadata": {
    "colab": {
      "name": "10.4 データベースのための言語",
      "provenance": [],
      "collapsed_sections": []
    },
    "kernelspec": {
      "name": "python3",
      "display_name": "Python 3"
    }
  },
  "cells": [
    {
      "cell_type": "markdown",
      "metadata": {
        "id": "CdoHSUoZLXeG"
      },
      "source": [
        "[矢吹太朗『Webのしくみ』（サイエンス社, 2020）](https://github.com/taroyabuki/webbook)\n",
        "\n",
        "下のアイコンをクリックすれば，この文書に掲載されているコードを，Google Colab上で実行できます．（Googleのアカウントが必要です．）\n",
        "\n",
        "[![Open In Colab](https://colab.research.google.com/assets/colab-badge.svg)](https://colab.research.google.com/github/taroyabuki/webbook/blob/master/chapters/10.4-SQL.ipynb)"
      ]
    },
    {
      "cell_type": "markdown",
      "metadata": {
        "id": "ClSfMaJpH2zd"
      },
      "source": [
        "# 第10章 データベース"
      ]
    },
    {
      "cell_type": "markdown",
      "metadata": {
        "id": "XC0Bd5vaH_X9"
      },
      "source": [
        "## 10.4 データベースのための言語"
      ]
    },
    {
      "cell_type": "code",
      "metadata": {
        "colab": {
          "base_uri": "https://localhost:8080/",
          "height": 141
        },
        "id": "13_tWHQVqL4y",
        "outputId": "20a2b2e7-628f-48ce-fec0-e5ce49d8c92a"
      },
      "source": [
        "# このセルをクリックして，Shift+Enterまたは左の▶ボタンを押して実行してください．\n",
        "# 以下のコードは準備のためのものです．理解できなくてかまいません．\n",
        "import pandas as pd\n",
        "import sqlite3\n",
        "!rm -f db.sqlite3\n",
        "con = sqlite3.connect('db.sqlite3')\n",
        "def 実行(sql): return pd.read_sql_query(sql, con)\n",
        "商品の表 = pd.DataFrame({\n",
        "    'ID': [1, 2, 3],\n",
        "    '商品名': ['A', 'B', 'C'],\n",
        "    '価格': [1280, 2980, 198],\n",
        "    '在庫': [1, 0, 121]\n",
        "})\n",
        "商品の表.to_sql('商品の表', con, index=False)\n",
        "商品の表"
      ],
      "execution_count": 1,
      "outputs": [
        {
          "output_type": "execute_result",
          "data": {
            "text/html": [
              "<div>\n",
              "<style scoped>\n",
              "    .dataframe tbody tr th:only-of-type {\n",
              "        vertical-align: middle;\n",
              "    }\n",
              "\n",
              "    .dataframe tbody tr th {\n",
              "        vertical-align: top;\n",
              "    }\n",
              "\n",
              "    .dataframe thead th {\n",
              "        text-align: right;\n",
              "    }\n",
              "</style>\n",
              "<table border=\"1\" class=\"dataframe\">\n",
              "  <thead>\n",
              "    <tr style=\"text-align: right;\">\n",
              "      <th></th>\n",
              "      <th>ID</th>\n",
              "      <th>商品名</th>\n",
              "      <th>価格</th>\n",
              "      <th>在庫</th>\n",
              "    </tr>\n",
              "  </thead>\n",
              "  <tbody>\n",
              "    <tr>\n",
              "      <th>0</th>\n",
              "      <td>1</td>\n",
              "      <td>A</td>\n",
              "      <td>1280</td>\n",
              "      <td>1</td>\n",
              "    </tr>\n",
              "    <tr>\n",
              "      <th>1</th>\n",
              "      <td>2</td>\n",
              "      <td>B</td>\n",
              "      <td>2980</td>\n",
              "      <td>0</td>\n",
              "    </tr>\n",
              "    <tr>\n",
              "      <th>2</th>\n",
              "      <td>3</td>\n",
              "      <td>C</td>\n",
              "      <td>198</td>\n",
              "      <td>121</td>\n",
              "    </tr>\n",
              "  </tbody>\n",
              "</table>\n",
              "</div>"
            ],
            "text/plain": [
              "   ID 商品名    価格   在庫\n",
              "0   1   A  1280    1\n",
              "1   2   B  2980    0\n",
              "2   3   C   198  121"
            ]
          },
          "metadata": {
            "tags": []
          },
          "execution_count": 1
        }
      ]
    },
    {
      "cell_type": "markdown",
      "metadata": {
        "id": "MdbZcl2hI-An"
      },
      "source": [
        "上の表で，在庫があるもののIDを知りたいとしましょう．\n",
        "\n",
        "手続き型言語（Python）で実行するなら，次のようになります．（Pythonらしいコードについて後で補足します．）"
      ]
    },
    {
      "cell_type": "code",
      "metadata": {
        "colab": {
          "base_uri": "https://localhost:8080/"
        },
        "id": "9V72EaR7vAXT",
        "outputId": "e32e3375-e21b-46c4-b206-586a85badde2"
      },
      "source": [
        "結果 = []                                       # 結果が空の状態から始める．\n",
        "x = 1                                           # xを1とする．\n",
        "while True:                                     # 以下をくり返す\n",
        "  try: 商品 = 商品の表.iloc[x - 1]              #   表のx行目の商品を調べる．\n",
        "  except IndexError: break                      #   商品がなければプログラムを終わらせる．\n",
        "  if 1 <= 商品['在庫']: 結果.append(商品['ID']) #   在庫が1以上なら結果に追加する．\n",
        "  x += 1                                        #   xを1増やす．\n",
        "結果                                            # 結果を表示する．"
      ],
      "execution_count": 2,
      "outputs": [
        {
          "output_type": "execute_result",
          "data": {
            "text/plain": [
              "[1, 3]"
            ]
          },
          "metadata": {
            "tags": []
          },
          "execution_count": 2
        }
      ]
    },
    {
      "cell_type": "markdown",
      "metadata": {
        "id": "pzXxdoPQJVRa"
      },
      "source": [
        "宣言型言語（SQL）で実行するなら，次のようになります．\n",
        "\n",
        "```\n",
        "商品の表から，       （from 商品の表）\n",
        "在庫が1以上のものの，（where 1 <= 在庫）\n",
        "IDを取り出す．       （select ID）\n",
        "```\n",
        "\n",
        "正しいSQL文になるように並べ替えてから実行します．"
      ]
    },
    {
      "cell_type": "code",
      "metadata": {
        "colab": {
          "base_uri": "https://localhost:8080/",
          "height": 110
        },
        "id": "n4vsxs6PrEwm",
        "outputId": "456c5c0e-c727-4286-b135-95ca246b5e20"
      },
      "source": [
        "実行('''\n",
        "select ID\n",
        "from 商品の表\n",
        "where 1 <= 在庫\n",
        "''')"
      ],
      "execution_count": 3,
      "outputs": [
        {
          "output_type": "execute_result",
          "data": {
            "text/html": [
              "<div>\n",
              "<style scoped>\n",
              "    .dataframe tbody tr th:only-of-type {\n",
              "        vertical-align: middle;\n",
              "    }\n",
              "\n",
              "    .dataframe tbody tr th {\n",
              "        vertical-align: top;\n",
              "    }\n",
              "\n",
              "    .dataframe thead th {\n",
              "        text-align: right;\n",
              "    }\n",
              "</style>\n",
              "<table border=\"1\" class=\"dataframe\">\n",
              "  <thead>\n",
              "    <tr style=\"text-align: right;\">\n",
              "      <th></th>\n",
              "      <th>ID</th>\n",
              "    </tr>\n",
              "  </thead>\n",
              "  <tbody>\n",
              "    <tr>\n",
              "      <th>0</th>\n",
              "      <td>1</td>\n",
              "    </tr>\n",
              "    <tr>\n",
              "      <th>1</th>\n",
              "      <td>3</td>\n",
              "    </tr>\n",
              "  </tbody>\n",
              "</table>\n",
              "</div>"
            ],
            "text/plain": [
              "   ID\n",
              "0   1\n",
              "1   3"
            ]
          },
          "metadata": {
            "tags": []
          },
          "execution_count": 3
        }
      ]
    },
    {
      "cell_type": "markdown",
      "metadata": {
        "id": "D9TO-9hcKs4E"
      },
      "source": [
        "補足：Pythonらしく書くなら次のようになります．"
      ]
    },
    {
      "cell_type": "code",
      "metadata": {
        "colab": {
          "base_uri": "https://localhost:8080/"
        },
        "id": "58XTPX0Pxlh2",
        "outputId": "ac8ae35b-df95-4298-87c6-7c3ad32c79ed"
      },
      "source": [
        "[商品[0] for 商品 in 商品の表.values if 1 <= 商品[3]]"
      ],
      "execution_count": 4,
      "outputs": [
        {
          "output_type": "execute_result",
          "data": {
            "text/plain": [
              "[1, 3]"
            ]
          },
          "metadata": {
            "tags": []
          },
          "execution_count": 4
        }
      ]
    },
    {
      "cell_type": "markdown",
      "metadata": {
        "id": "7C_CHQ2GKyvs"
      },
      "source": [
        "補足：実は，表形式のデータを扱う方法がPyhonで用意されているので，それを使って宣言的に書くこともできます．"
      ]
    },
    {
      "cell_type": "code",
      "metadata": {
        "colab": {
          "base_uri": "https://localhost:8080/",
          "height": 110
        },
        "id": "hOVm-CVt3u67",
        "outputId": "e83210f9-6a9e-454e-c46d-6eadb7b85f10"
      },
      "source": [
        "商品の表.query('1 <= 在庫')[['ID']]"
      ],
      "execution_count": 5,
      "outputs": [
        {
          "output_type": "execute_result",
          "data": {
            "text/html": [
              "<div>\n",
              "<style scoped>\n",
              "    .dataframe tbody tr th:only-of-type {\n",
              "        vertical-align: middle;\n",
              "    }\n",
              "\n",
              "    .dataframe tbody tr th {\n",
              "        vertical-align: top;\n",
              "    }\n",
              "\n",
              "    .dataframe thead th {\n",
              "        text-align: right;\n",
              "    }\n",
              "</style>\n",
              "<table border=\"1\" class=\"dataframe\">\n",
              "  <thead>\n",
              "    <tr style=\"text-align: right;\">\n",
              "      <th></th>\n",
              "      <th>ID</th>\n",
              "    </tr>\n",
              "  </thead>\n",
              "  <tbody>\n",
              "    <tr>\n",
              "      <th>0</th>\n",
              "      <td>1</td>\n",
              "    </tr>\n",
              "    <tr>\n",
              "      <th>2</th>\n",
              "      <td>3</td>\n",
              "    </tr>\n",
              "  </tbody>\n",
              "</table>\n",
              "</div>"
            ],
            "text/plain": [
              "   ID\n",
              "0   1\n",
              "2   3"
            ]
          },
          "metadata": {
            "tags": []
          },
          "execution_count": 5
        }
      ]
    }
  ]
}